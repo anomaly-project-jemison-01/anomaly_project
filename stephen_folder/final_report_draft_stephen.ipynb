{
 "cells": [
  {
   "cell_type": "code",
   "execution_count": 1,
   "id": "c28b1708",
   "metadata": {},
   "outputs": [
    {
     "name": "stdout",
     "output_type": "stream",
     "text": [
      "Returning saved csv files.\n"
     ]
    }
   ],
   "source": [
    "import pandas as pd\n",
    "import seaborn as sns\n",
    "import matplotlib.pyplot as plt\n",
    "\n",
    "import wrangle\n",
    "\n",
    "df = wrangle.get_curriculum_data()\n",
    "df = wrangle.prepare_datetime_col(df)"
   ]
  },
  {
   "cell_type": "markdown",
   "id": "fb62b94c",
   "metadata": {},
   "source": [
    "# 3. Are there students who, when active, hardly access the curriculum? If so, what information do you have about these students?\n",
    "\n",
    "### A : The student in the who were in the bottom 25% of number of pings had an average of accessing the curriculum 102 days before the end of thier cohort, and 75% had their last access date 22 days before the end of the cohort.  Therefore it seems likely that the students had left the program without graduating.\n",
    "\n",
    "- There are in the following cohorts : Sequoia, Teddy, Ulysses, Voyageurs, Yosemite, Xanadu, Zion, Andromeda, 'Betelgeuse', 'Ceres', 'Bayes', 'Deimos', Europa', 'Fortuna', 'Curie', 'Apex', 'Ganymede', 'Hyperion', Darden', 'Bash', 'Jupiter', 'Kalypso', 'Luna', 'Easley', 'Marco', 'Neptune', 'Florence', 'Oberon'\n",
    "- These are all full stack java and data science cohorts ending inbetween 2018 to 2021\n",
    "- In looking at the difference between the students last ping and the end date for the cohort, just over half of these students made their last ping ~4 weeks before the end of the cohort, indicating that they may have left.\n",
    "\n",
    "The table below shows the statistics for the number of days before the end of the cohort that users last accessed the curriculum."
   ]
  },
  {
   "cell_type": "code",
   "execution_count": 39,
   "id": "15bb07e2",
   "metadata": {},
   "outputs": [
    {
     "data": {
      "text/html": [
       "<div>\n",
       "<style scoped>\n",
       "    .dataframe tbody tr th:only-of-type {\n",
       "        vertical-align: middle;\n",
       "    }\n",
       "\n",
       "    .dataframe tbody tr th {\n",
       "        vertical-align: top;\n",
       "    }\n",
       "\n",
       "    .dataframe thead th {\n",
       "        text-align: right;\n",
       "    }\n",
       "</style>\n",
       "<table border=\"1\" class=\"dataframe\">\n",
       "  <thead>\n",
       "    <tr style=\"text-align: right;\">\n",
       "      <th></th>\n",
       "      <th>max</th>\n",
       "    </tr>\n",
       "  </thead>\n",
       "  <tbody>\n",
       "    <tr>\n",
       "      <th>count</th>\n",
       "      <td>183.000000</td>\n",
       "    </tr>\n",
       "    <tr>\n",
       "      <th>mean</th>\n",
       "      <td>-102.114754</td>\n",
       "    </tr>\n",
       "    <tr>\n",
       "      <th>std</th>\n",
       "      <td>62.134761</td>\n",
       "    </tr>\n",
       "    <tr>\n",
       "      <th>min</th>\n",
       "      <td>-188.000000</td>\n",
       "    </tr>\n",
       "    <tr>\n",
       "      <th>25%</th>\n",
       "      <td>-150.500000</td>\n",
       "    </tr>\n",
       "    <tr>\n",
       "      <th>50%</th>\n",
       "      <td>-135.000000</td>\n",
       "    </tr>\n",
       "    <tr>\n",
       "      <th>75%</th>\n",
       "      <td>-22.500000</td>\n",
       "    </tr>\n",
       "    <tr>\n",
       "      <th>max</th>\n",
       "      <td>-1.000000</td>\n",
       "    </tr>\n",
       "  </tbody>\n",
       "</table>\n",
       "</div>"
      ],
      "text/plain": [
       "              max\n",
       "count  183.000000\n",
       "mean  -102.114754\n",
       "std     62.134761\n",
       "min   -188.000000\n",
       "25%   -150.500000\n",
       "50%   -135.000000\n",
       "75%    -22.500000\n",
       "max     -1.000000"
      ]
     },
     "execution_count": 39,
     "metadata": {},
     "output_type": "execute_result"
    }
   ],
   "source": [
    "def question_three(df):\n",
    "    df['start_date'] = pd.to_datetime(df['start_date'])\n",
    "    df['end_date'] = pd.to_datetime(df['end_date'])\n",
    "    df = df[~(df.name=='Staff')]\n",
    "    df = df[(df.timestamp > df.start_date) & (df.timestamp < df.end_date)]\n",
    "    usercounts = pd.DataFrame(df[['user_id']].value_counts()).rename(columns={0:'count'})\n",
    "    low_ping_users = usercounts[usercounts['count'] <= df.user_id.value_counts().quantile(0.25)].reset_index()['user_id']\n",
    "    df = df[df.user_id.isin(low_ping_users)]\n",
    "    low_ping_hits = df[df.user_id.isin(low_ping_users)]\n",
    "    low_ping_hits['diff_to_end'] = (low_ping_hits['timestamp'] - low_ping_hits['end_date']).dt.days\n",
    "    final_df = low_ping_hits.groupby('user_id')['diff_to_end'].describe().sort_values('max')['max'].describe()\n",
    "    return pd.DataFrame(final_df)\n",
    "\n",
    "question_three(df)"
   ]
  },
  {
   "cell_type": "markdown",
   "id": "54b6b04d",
   "metadata": {},
   "source": [
    "# 4. Is there any suspicious activity, such as users/machines/etc accessing the curriculum who shouldn’t be? Does it appear that any web-scraping is happening? Are there any suspicious IP addresses?\n",
    "\n",
    "### A:  There is evidence of webscraping.  For example, ip `216.1.153.162` moves through a lot of pages within seconds.  There are a series of user_id that are not associated with any cohort; these could be suspicious-- particularly since some of them seem to be on the wifi.  It could be the case that they could be guests using the network, but there are more nefarious interpretations of this.\n",
    "\n",
    "- the following user_id are not associated with a cohort : `48,  54,  58,  59,  61,  62,  63,  73,  74,  78,  79,  86,  88, 89, 100, 103, 111, 137, 166, 176, 213, 247, 317, 349, 350, 351, 352, 353, 354, 355, 356, 357, 358, 359, 360, 361, 362, 363, 364, 365, 366, 367, 368, 369, 372, 375, 403, 406, 429, 544,  64, 713, 714, 715, 716, 717, 718, 663, 719, 720, 721, 722, 723, 724, 725, 726, 727, 728, 729, 346, 731, 736, 644, 744, 782, 810, 814, 815`\n",
    "    - some of these are associated only with one ip\n",
    "\n",
    "- `97.105.19.58` and `97.105.19.61` are likely wifi, but because of the significant traffic and users, it might be worth double checking what these ip addresses are.\n",
    "\n",
    "The below list of user_id that do not have an associated cohort. These would be worth investigating."
   ]
  },
  {
   "cell_type": "code",
   "execution_count": 41,
   "id": "593abbe3",
   "metadata": {},
   "outputs": [
    {
     "data": {
      "text/plain": [
       "array([ 48,  54,  58,  59,  61,  62,  63,  73,  74,  78,  79,  86,  88,\n",
       "        89, 100, 103, 111, 137, 166, 176, 213, 247, 317, 349, 350, 351,\n",
       "       352, 353, 354, 355, 356, 357, 358, 359, 360, 361, 362, 363, 364,\n",
       "       365, 366, 367, 368, 369, 372, 375, 403, 406, 429, 544,  64, 713,\n",
       "       714, 715, 716, 717, 718, 663, 719, 720, 721, 722, 723, 724, 725,\n",
       "       726, 727, 728, 729, 346, 731, 736, 644, 744, 782, 810, 814, 815])"
      ]
     },
     "execution_count": 41,
     "metadata": {},
     "output_type": "execute_result"
    }
   ],
   "source": [
    "def question_four(df):\n",
    "    return df[df.program_name == 'unknown_program'].user_id.unique()\n",
    "\n",
    "question_four(df)"
   ]
  }
 ],
 "metadata": {
  "kernelspec": {
   "display_name": "Python 3 (ipykernel)",
   "language": "python",
   "name": "python3"
  },
  "language_info": {
   "codemirror_mode": {
    "name": "ipython",
    "version": 3
   },
   "file_extension": ".py",
   "mimetype": "text/x-python",
   "name": "python",
   "nbconvert_exporter": "python",
   "pygments_lexer": "ipython3",
   "version": "3.9.12"
  }
 },
 "nbformat": 4,
 "nbformat_minor": 5
}
