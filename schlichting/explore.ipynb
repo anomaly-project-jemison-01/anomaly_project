{
 "cells": [
  {
   "cell_type": "code",
   "execution_count": 1,
   "id": "65c0acec",
   "metadata": {},
   "outputs": [
    {
     "name": "stderr",
     "output_type": "stream",
     "text": [
      "/opt/homebrew/anaconda3/lib/python3.9/site-packages/scipy/__init__.py:146: UserWarning: A NumPy version >=1.16.5 and <1.23.0 is required for this version of SciPy (detected version 1.23.0\n",
      "  warnings.warn(f\"A NumPy version >={np_minversion} and <{np_maxversion}\"\n"
     ]
    }
   ],
   "source": [
    "#basics\n",
    "import numpy as np\n",
    "import pandas as pd\n",
    "\n",
    "#viz\n",
    "import matplotlib.pyplot as plt\n",
    "import seaborn as sns\n",
    "sns.set_theme(palette='colorblind')\n",
    "\n",
    "#modules\n",
    "import wrangle"
   ]
  },
  {
   "cell_type": "code",
   "execution_count": 2,
   "id": "4cb4b74b",
   "metadata": {},
   "outputs": [
    {
     "name": "stdout",
     "output_type": "stream",
     "text": [
      "Returning saved csv files.\n"
     ]
    },
    {
     "data": {
      "text/html": [
       "<div>\n",
       "<style scoped>\n",
       "    .dataframe tbody tr th:only-of-type {\n",
       "        vertical-align: middle;\n",
       "    }\n",
       "\n",
       "    .dataframe tbody tr th {\n",
       "        vertical-align: top;\n",
       "    }\n",
       "\n",
       "    .dataframe thead th {\n",
       "        text-align: right;\n",
       "    }\n",
       "</style>\n",
       "<table border=\"1\" class=\"dataframe\">\n",
       "  <thead>\n",
       "    <tr style=\"text-align: right;\">\n",
       "      <th></th>\n",
       "      <th>date</th>\n",
       "      <th>time</th>\n",
       "      <th>path</th>\n",
       "      <th>user_id</th>\n",
       "      <th>cohort_id</th>\n",
       "      <th>ip</th>\n",
       "      <th>id</th>\n",
       "      <th>name</th>\n",
       "      <th>slack</th>\n",
       "      <th>start_date</th>\n",
       "      <th>end_date</th>\n",
       "      <th>created_at</th>\n",
       "      <th>updated_at</th>\n",
       "      <th>deleted_at</th>\n",
       "      <th>program_id</th>\n",
       "      <th>program_name</th>\n",
       "    </tr>\n",
       "  </thead>\n",
       "  <tbody>\n",
       "    <tr>\n",
       "      <th>0</th>\n",
       "      <td>2018-01-26</td>\n",
       "      <td>09:55:03</td>\n",
       "      <td>/</td>\n",
       "      <td>1</td>\n",
       "      <td>8.0</td>\n",
       "      <td>97.105.19.61</td>\n",
       "      <td>8.0</td>\n",
       "      <td>Hampton</td>\n",
       "      <td>#hampton</td>\n",
       "      <td>2015-09-22</td>\n",
       "      <td>2016-02-06</td>\n",
       "      <td>2016-06-14 19:52:26</td>\n",
       "      <td>2016-06-14 19:52:26</td>\n",
       "      <td>NaN</td>\n",
       "      <td>1.0</td>\n",
       "      <td>full_stack_php</td>\n",
       "    </tr>\n",
       "    <tr>\n",
       "      <th>1</th>\n",
       "      <td>2018-01-26</td>\n",
       "      <td>09:56:02</td>\n",
       "      <td>java-ii</td>\n",
       "      <td>1</td>\n",
       "      <td>8.0</td>\n",
       "      <td>97.105.19.61</td>\n",
       "      <td>8.0</td>\n",
       "      <td>Hampton</td>\n",
       "      <td>#hampton</td>\n",
       "      <td>2015-09-22</td>\n",
       "      <td>2016-02-06</td>\n",
       "      <td>2016-06-14 19:52:26</td>\n",
       "      <td>2016-06-14 19:52:26</td>\n",
       "      <td>NaN</td>\n",
       "      <td>1.0</td>\n",
       "      <td>full_stack_php</td>\n",
       "    </tr>\n",
       "    <tr>\n",
       "      <th>2</th>\n",
       "      <td>2018-01-26</td>\n",
       "      <td>09:56:05</td>\n",
       "      <td>java-ii/object-oriented-programming</td>\n",
       "      <td>1</td>\n",
       "      <td>8.0</td>\n",
       "      <td>97.105.19.61</td>\n",
       "      <td>8.0</td>\n",
       "      <td>Hampton</td>\n",
       "      <td>#hampton</td>\n",
       "      <td>2015-09-22</td>\n",
       "      <td>2016-02-06</td>\n",
       "      <td>2016-06-14 19:52:26</td>\n",
       "      <td>2016-06-14 19:52:26</td>\n",
       "      <td>NaN</td>\n",
       "      <td>1.0</td>\n",
       "      <td>full_stack_php</td>\n",
       "    </tr>\n",
       "    <tr>\n",
       "      <th>3</th>\n",
       "      <td>2018-01-26</td>\n",
       "      <td>09:56:06</td>\n",
       "      <td>slides/object_oriented_programming</td>\n",
       "      <td>1</td>\n",
       "      <td>8.0</td>\n",
       "      <td>97.105.19.61</td>\n",
       "      <td>8.0</td>\n",
       "      <td>Hampton</td>\n",
       "      <td>#hampton</td>\n",
       "      <td>2015-09-22</td>\n",
       "      <td>2016-02-06</td>\n",
       "      <td>2016-06-14 19:52:26</td>\n",
       "      <td>2016-06-14 19:52:26</td>\n",
       "      <td>NaN</td>\n",
       "      <td>1.0</td>\n",
       "      <td>full_stack_php</td>\n",
       "    </tr>\n",
       "    <tr>\n",
       "      <th>4</th>\n",
       "      <td>2018-01-26</td>\n",
       "      <td>09:56:24</td>\n",
       "      <td>javascript-i/conditionals</td>\n",
       "      <td>2</td>\n",
       "      <td>22.0</td>\n",
       "      <td>97.105.19.61</td>\n",
       "      <td>22.0</td>\n",
       "      <td>Teddy</td>\n",
       "      <td>#teddy</td>\n",
       "      <td>2018-01-08</td>\n",
       "      <td>2018-05-17</td>\n",
       "      <td>2018-01-08 13:59:10</td>\n",
       "      <td>2018-01-08 13:59:10</td>\n",
       "      <td>NaN</td>\n",
       "      <td>2.0</td>\n",
       "      <td>full_stack_java</td>\n",
       "    </tr>\n",
       "  </tbody>\n",
       "</table>\n",
       "</div>"
      ],
      "text/plain": [
       "         date      time                                 path  user_id  \\\n",
       "0  2018-01-26  09:55:03                                    /        1   \n",
       "1  2018-01-26  09:56:02                              java-ii        1   \n",
       "2  2018-01-26  09:56:05  java-ii/object-oriented-programming        1   \n",
       "3  2018-01-26  09:56:06   slides/object_oriented_programming        1   \n",
       "4  2018-01-26  09:56:24            javascript-i/conditionals        2   \n",
       "\n",
       "   cohort_id            ip    id     name     slack  start_date    end_date  \\\n",
       "0        8.0  97.105.19.61   8.0  Hampton  #hampton  2015-09-22  2016-02-06   \n",
       "1        8.0  97.105.19.61   8.0  Hampton  #hampton  2015-09-22  2016-02-06   \n",
       "2        8.0  97.105.19.61   8.0  Hampton  #hampton  2015-09-22  2016-02-06   \n",
       "3        8.0  97.105.19.61   8.0  Hampton  #hampton  2015-09-22  2016-02-06   \n",
       "4       22.0  97.105.19.61  22.0    Teddy    #teddy  2018-01-08  2018-05-17   \n",
       "\n",
       "            created_at           updated_at  deleted_at  program_id  \\\n",
       "0  2016-06-14 19:52:26  2016-06-14 19:52:26         NaN         1.0   \n",
       "1  2016-06-14 19:52:26  2016-06-14 19:52:26         NaN         1.0   \n",
       "2  2016-06-14 19:52:26  2016-06-14 19:52:26         NaN         1.0   \n",
       "3  2016-06-14 19:52:26  2016-06-14 19:52:26         NaN         1.0   \n",
       "4  2018-01-08 13:59:10  2018-01-08 13:59:10         NaN         2.0   \n",
       "\n",
       "      program_name  \n",
       "0   full_stack_php  \n",
       "1   full_stack_php  \n",
       "2   full_stack_php  \n",
       "3   full_stack_php  \n",
       "4  full_stack_java  "
      ]
     },
     "execution_count": 2,
     "metadata": {},
     "output_type": "execute_result"
    }
   ],
   "source": [
    "df_org = wrangle.get_curriculum_data()\n",
    "df_org.head()"
   ]
  },
  {
   "cell_type": "code",
   "execution_count": 3,
   "id": "88bb3a3f",
   "metadata": {},
   "outputs": [
    {
     "data": {
      "text/plain": [
       "(900223, 16)"
      ]
     },
     "execution_count": 3,
     "metadata": {},
     "output_type": "execute_result"
    }
   ],
   "source": [
    "df_org.shape"
   ]
  },
  {
   "cell_type": "code",
   "execution_count": 4,
   "id": "1ae743c6",
   "metadata": {},
   "outputs": [
    {
     "name": "stdout",
     "output_type": "stream",
     "text": [
      "<class 'pandas.core.frame.DataFrame'>\n",
      "RangeIndex: 900223 entries, 0 to 900222\n",
      "Data columns (total 16 columns):\n",
      " #   Column        Non-Null Count   Dtype  \n",
      "---  ------        --------------   -----  \n",
      " 0   date          900223 non-null  object \n",
      " 1   time          900223 non-null  object \n",
      " 2   path          900222 non-null  object \n",
      " 3   user_id       900223 non-null  int64  \n",
      " 4   cohort_id     847330 non-null  float64\n",
      " 5   ip            900223 non-null  object \n",
      " 6   id            847330 non-null  float64\n",
      " 7   name          847330 non-null  object \n",
      " 8   slack         847330 non-null  object \n",
      " 9   start_date    847330 non-null  object \n",
      " 10  end_date      847330 non-null  object \n",
      " 11  created_at    847330 non-null  object \n",
      " 12  updated_at    847330 non-null  object \n",
      " 13  deleted_at    0 non-null       float64\n",
      " 14  program_id    847330 non-null  float64\n",
      " 15  program_name  900223 non-null  object \n",
      "dtypes: float64(4), int64(1), object(11)\n",
      "memory usage: 109.9+ MB\n"
     ]
    }
   ],
   "source": [
    "df_org.info()"
   ]
  },
  {
   "cell_type": "code",
   "execution_count": 26,
   "id": "6750899f",
   "metadata": {},
   "outputs": [
    {
     "data": {
      "text/plain": [
       "0.2640163098878695"
      ]
     },
     "execution_count": 26,
     "metadata": {},
     "output_type": "execute_result"
    }
   ],
   "source": [
    "(df_org.user_id.value_counts() < 200).mean()"
   ]
  },
  {
   "cell_type": "markdown",
   "id": "82200039",
   "metadata": {},
   "source": [
    "##### Basic Date info"
   ]
  },
  {
   "cell_type": "code",
   "execution_count": 19,
   "id": "98611cd3",
   "metadata": {},
   "outputs": [
    {
     "name": "stdout",
     "output_type": "stream",
     "text": [
      "The starting date is 2018-01-26\n",
      "The ending date is 2021-04-21\n"
     ]
    }
   ],
   "source": [
    "print(f'The starting date is {df.date.min()}\\nThe ending date is {df.date.max()}')"
   ]
  },
  {
   "cell_type": "code",
   "execution_count": 21,
   "id": "15f782d3",
   "metadata": {},
   "outputs": [
    {
     "data": {
      "image/png": "[encoded data removed]",
      "text/plain": [
       "<Figure size 864x360 with 1 Axes>"
      ]
     },
     "metadata": {},
     "output_type": "display_data"
    }
   ],
   "source": [
    "plt.figure(figsize=(12,5))\n",
    "sns.histplot(data=df_org,x='date',bins=40); #40 bins b/c ~40 months"
   ]
  },
  {
   "cell_type": "markdown",
   "id": "2ecbfdf4",
   "metadata": {},
   "source": [
    "### Question 5: What topics are grads continuing to reference after graduation and into their jobs (for each program)?"
   ]
  },
  {
   "cell_type": "code",
   "execution_count": 5,
   "id": "d80a65d9",
   "metadata": {},
   "outputs": [],
   "source": [
    "#Filter dataset down to just those that access it after graduation\n",
    "df = df_org[df_org.date > df_org.end_date]"
   ]
  },
  {
   "cell_type": "code",
   "execution_count": 6,
   "id": "a46081ff",
   "metadata": {},
   "outputs": [
    {
     "data": {
      "text/plain": [
       "(199834, 16)"
      ]
     },
     "execution_count": 6,
     "metadata": {},
     "output_type": "execute_result"
    }
   ],
   "source": [
    "df.shape"
   ]
  },
  {
   "cell_type": "code",
   "execution_count": 7,
   "id": "530cfbce",
   "metadata": {},
   "outputs": [
    {
     "data": {
      "text/html": [
       "<div>\n",
       "<style scoped>\n",
       "    .dataframe tbody tr th:only-of-type {\n",
       "        vertical-align: middle;\n",
       "    }\n",
       "\n",
       "    .dataframe tbody tr th {\n",
       "        vertical-align: top;\n",
       "    }\n",
       "\n",
       "    .dataframe thead th {\n",
       "        text-align: right;\n",
       "    }\n",
       "</style>\n",
       "<table border=\"1\" class=\"dataframe\">\n",
       "  <thead>\n",
       "    <tr style=\"text-align: right;\">\n",
       "      <th></th>\n",
       "      <th>date</th>\n",
       "      <th>time</th>\n",
       "      <th>path</th>\n",
       "      <th>user_id</th>\n",
       "      <th>cohort_id</th>\n",
       "      <th>ip</th>\n",
       "      <th>id</th>\n",
       "      <th>name</th>\n",
       "      <th>slack</th>\n",
       "      <th>start_date</th>\n",
       "      <th>end_date</th>\n",
       "      <th>created_at</th>\n",
       "      <th>updated_at</th>\n",
       "      <th>deleted_at</th>\n",
       "      <th>program_id</th>\n",
       "      <th>program_name</th>\n",
       "    </tr>\n",
       "  </thead>\n",
       "  <tbody>\n",
       "    <tr>\n",
       "      <th>0</th>\n",
       "      <td>2018-01-26</td>\n",
       "      <td>09:55:03</td>\n",
       "      <td>/</td>\n",
       "      <td>1</td>\n",
       "      <td>8.0</td>\n",
       "      <td>97.105.19.61</td>\n",
       "      <td>8.0</td>\n",
       "      <td>Hampton</td>\n",
       "      <td>#hampton</td>\n",
       "      <td>2015-09-22</td>\n",
       "      <td>2016-02-06</td>\n",
       "      <td>2016-06-14 19:52:26</td>\n",
       "      <td>2016-06-14 19:52:26</td>\n",
       "      <td>NaN</td>\n",
       "      <td>1.0</td>\n",
       "      <td>full_stack_php</td>\n",
       "    </tr>\n",
       "    <tr>\n",
       "      <th>1</th>\n",
       "      <td>2018-01-26</td>\n",
       "      <td>09:56:02</td>\n",
       "      <td>java-ii</td>\n",
       "      <td>1</td>\n",
       "      <td>8.0</td>\n",
       "      <td>97.105.19.61</td>\n",
       "      <td>8.0</td>\n",
       "      <td>Hampton</td>\n",
       "      <td>#hampton</td>\n",
       "      <td>2015-09-22</td>\n",
       "      <td>2016-02-06</td>\n",
       "      <td>2016-06-14 19:52:26</td>\n",
       "      <td>2016-06-14 19:52:26</td>\n",
       "      <td>NaN</td>\n",
       "      <td>1.0</td>\n",
       "      <td>full_stack_php</td>\n",
       "    </tr>\n",
       "    <tr>\n",
       "      <th>2</th>\n",
       "      <td>2018-01-26</td>\n",
       "      <td>09:56:05</td>\n",
       "      <td>java-ii/object-oriented-programming</td>\n",
       "      <td>1</td>\n",
       "      <td>8.0</td>\n",
       "      <td>97.105.19.61</td>\n",
       "      <td>8.0</td>\n",
       "      <td>Hampton</td>\n",
       "      <td>#hampton</td>\n",
       "      <td>2015-09-22</td>\n",
       "      <td>2016-02-06</td>\n",
       "      <td>2016-06-14 19:52:26</td>\n",
       "      <td>2016-06-14 19:52:26</td>\n",
       "      <td>NaN</td>\n",
       "      <td>1.0</td>\n",
       "      <td>full_stack_php</td>\n",
       "    </tr>\n",
       "    <tr>\n",
       "      <th>3</th>\n",
       "      <td>2018-01-26</td>\n",
       "      <td>09:56:06</td>\n",
       "      <td>slides/object_oriented_programming</td>\n",
       "      <td>1</td>\n",
       "      <td>8.0</td>\n",
       "      <td>97.105.19.61</td>\n",
       "      <td>8.0</td>\n",
       "      <td>Hampton</td>\n",
       "      <td>#hampton</td>\n",
       "      <td>2015-09-22</td>\n",
       "      <td>2016-02-06</td>\n",
       "      <td>2016-06-14 19:52:26</td>\n",
       "      <td>2016-06-14 19:52:26</td>\n",
       "      <td>NaN</td>\n",
       "      <td>1.0</td>\n",
       "      <td>full_stack_php</td>\n",
       "    </tr>\n",
       "    <tr>\n",
       "      <th>30</th>\n",
       "      <td>2018-01-26</td>\n",
       "      <td>10:14:47</td>\n",
       "      <td>/</td>\n",
       "      <td>11</td>\n",
       "      <td>1.0</td>\n",
       "      <td>97.105.19.61</td>\n",
       "      <td>1.0</td>\n",
       "      <td>Arches</td>\n",
       "      <td>#arches</td>\n",
       "      <td>2014-02-04</td>\n",
       "      <td>2014-04-22</td>\n",
       "      <td>2016-06-14 19:52:26</td>\n",
       "      <td>2016-06-14 19:52:26</td>\n",
       "      <td>NaN</td>\n",
       "      <td>1.0</td>\n",
       "      <td>full_stack_php</td>\n",
       "    </tr>\n",
       "  </tbody>\n",
       "</table>\n",
       "</div>"
      ],
      "text/plain": [
       "          date      time                                 path  user_id  \\\n",
       "0   2018-01-26  09:55:03                                    /        1   \n",
       "1   2018-01-26  09:56:02                              java-ii        1   \n",
       "2   2018-01-26  09:56:05  java-ii/object-oriented-programming        1   \n",
       "3   2018-01-26  09:56:06   slides/object_oriented_programming        1   \n",
       "30  2018-01-26  10:14:47                                    /       11   \n",
       "\n",
       "    cohort_id            ip   id     name     slack  start_date    end_date  \\\n",
       "0         8.0  97.105.19.61  8.0  Hampton  #hampton  2015-09-22  2016-02-06   \n",
       "1         8.0  97.105.19.61  8.0  Hampton  #hampton  2015-09-22  2016-02-06   \n",
       "2         8.0  97.105.19.61  8.0  Hampton  #hampton  2015-09-22  2016-02-06   \n",
       "3         8.0  97.105.19.61  8.0  Hampton  #hampton  2015-09-22  2016-02-06   \n",
       "30        1.0  97.105.19.61  1.0   Arches   #arches  2014-02-04  2014-04-22   \n",
       "\n",
       "             created_at           updated_at  deleted_at  program_id  \\\n",
       "0   2016-06-14 19:52:26  2016-06-14 19:52:26         NaN         1.0   \n",
       "1   2016-06-14 19:52:26  2016-06-14 19:52:26         NaN         1.0   \n",
       "2   2016-06-14 19:52:26  2016-06-14 19:52:26         NaN         1.0   \n",
       "3   2016-06-14 19:52:26  2016-06-14 19:52:26         NaN         1.0   \n",
       "30  2016-06-14 19:52:26  2016-06-14 19:52:26         NaN         1.0   \n",
       "\n",
       "      program_name  \n",
       "0   full_stack_php  \n",
       "1   full_stack_php  \n",
       "2   full_stack_php  \n",
       "3   full_stack_php  \n",
       "30  full_stack_php  "
      ]
     },
     "execution_count": 7,
     "metadata": {},
     "output_type": "execute_result"
    }
   ],
   "source": [
    "df.head()"
   ]
  },
  {
   "cell_type": "code",
   "execution_count": 8,
   "id": "9ecd03db",
   "metadata": {},
   "outputs": [
    {
     "data": {
      "text/plain": [
       "1865"
      ]
     },
     "execution_count": 8,
     "metadata": {},
     "output_type": "execute_result"
    }
   ],
   "source": [
    "df.path.nunique() #only 1865 unique"
   ]
  },
  {
   "cell_type": "markdown",
   "id": "df6425e4",
   "metadata": {},
   "source": []
  },
  {
   "cell_type": "markdown",
   "id": "aba49512",
   "metadata": {},
   "source": [
    "##### Let's grab ds only post grad visits"
   ]
  },
  {
   "cell_type": "code",
   "execution_count": 9,
   "id": "a7174ce6",
   "metadata": {},
   "outputs": [
    {
     "data": {
      "text/plain": [
       "array(['full_stack_php', 'full_stack_java', 'front_end', 'data_science'],\n",
       "      dtype=object)"
      ]
     },
     "execution_count": 9,
     "metadata": {},
     "output_type": "execute_result"
    }
   ],
   "source": [
    "df.program_name.unique()"
   ]
  },
  {
   "cell_type": "code",
   "execution_count": 10,
   "id": "0b403c70",
   "metadata": {},
   "outputs": [],
   "source": [
    "ds_df = df[(df.program_name == 'data_science')]"
   ]
  },
  {
   "cell_type": "code",
   "execution_count": 11,
   "id": "c5175e89",
   "metadata": {},
   "outputs": [
    {
     "data": {
      "text/plain": [
       "(11495, 16)"
      ]
     },
     "execution_count": 11,
     "metadata": {},
     "output_type": "execute_result"
    }
   ],
   "source": [
    "ds_df.shape"
   ]
  },
  {
   "cell_type": "code",
   "execution_count": 12,
   "id": "f8dbf9a9",
   "metadata": {},
   "outputs": [
    {
     "data": {
      "text/plain": [
       "/                                           1436\n",
       "search/search_index.json                     493\n",
       "sql/mysql-overview                           275\n",
       "classification/overview                      266\n",
       "classification/scale_features_or_not.svg     219\n",
       "                                            ... \n",
       "DataToAction_v2.jpg                            1\n",
       "advanced-topics/tidy-data                      1\n",
       "10-anomaly-detection/isolation-forests         1\n",
       "cli/moving-files                               1\n",
       "individual-project/individual-project          1\n",
       "Name: path, Length: 437, dtype: int64"
      ]
     },
     "execution_count": 12,
     "metadata": {},
     "output_type": "execute_result"
    }
   ],
   "source": [
    "ds_df.path.value_counts() #437"
   ]
  },
  {
   "cell_type": "code",
   "execution_count": 13,
   "id": "699138c2",
   "metadata": {},
   "outputs": [
    {
     "data": {
      "text/plain": [
       "Bayes     4722\n",
       "Curie     3621\n",
       "Darden    3152\n",
       "Name: name, dtype: int64"
      ]
     },
     "execution_count": 13,
     "metadata": {},
     "output_type": "execute_result"
    }
   ],
   "source": [
    "ds_df.name.value_counts()"
   ]
  },
  {
   "cell_type": "code",
   "execution_count": 14,
   "id": "dee36d98",
   "metadata": {},
   "outputs": [
    {
     "data": {
      "text/plain": [
       "<AxesSubplot:xlabel='name', ylabel='Count'>"
      ]
     },
     "execution_count": 14,
     "metadata": {},
     "output_type": "execute_result"
    },
    {
     "data": {
      "image/png": "[encoded data removed]",
      "text/plain": [
       "<Figure size 432x288 with 1 Axes>"
      ]
     },
     "metadata": {},
     "output_type": "display_data"
    }
   ],
   "source": [
    "sns.histplot(data=ds_df,x='name',hue='name')"
   ]
  },
  {
   "cell_type": "code",
   "execution_count": null,
   "id": "d3c311ba",
   "metadata": {},
   "outputs": [],
   "source": []
  },
  {
   "cell_type": "code",
   "execution_count": null,
   "id": "8ec39d50",
   "metadata": {},
   "outputs": [],
   "source": []
  },
  {
   "cell_type": "markdown",
   "id": "c377a84b",
   "metadata": {},
   "source": [
    "**DS Post Graduation Visit Summary:**\n",
    "- 11495 page visits across 3 cohorts.\n",
    "- "
   ]
  },
  {
   "cell_type": "code",
   "execution_count": 15,
   "id": "751b5cd2",
   "metadata": {},
   "outputs": [],
   "source": [
    "post_graduation_visits = df.path.value_counts()"
   ]
  },
  {
   "cell_type": "code",
   "execution_count": 16,
   "id": "04c5a719",
   "metadata": {},
   "outputs": [
    {
     "data": {
      "text/plain": [
       "/                           15524\n",
       "javascript-i                 4965\n",
       "spring                       4262\n",
       "search/search_index.json     4174\n",
       "html-css                     3678\n",
       "java-iii                     3537\n",
       "java-ii                      3439\n",
       "java-i                       3123\n",
       "appendix                     3071\n",
       "javascript-ii                2978\n",
       "Name: path, dtype: int64"
      ]
     },
     "execution_count": 16,
     "metadata": {},
     "output_type": "execute_result"
    }
   ],
   "source": [
    "post_graduation_visits.head(10)"
   ]
  },
  {
   "cell_type": "code",
   "execution_count": 17,
   "id": "1c22f652",
   "metadata": {},
   "outputs": [
    {
     "data": {
      "text/plain": [
       "Index([                                                              ['', ''],\n",
       "                                                             ['javascript-i'],\n",
       "                                                                   ['spring'],\n",
       "                                              ['search', 'search_index.json'],\n",
       "                                                                 ['html-css'],\n",
       "                                                                 ['java-iii'],\n",
       "                                                                  ['java-ii'],\n",
       "                                                                   ['java-i'],\n",
       "                                                                 ['appendix'],\n",
       "                                                            ['javascript-ii'],\n",
       "       ...\n",
       "                                     ['javascript-ii', 'promisesdfghjkjhgfs'],\n",
       "                                                  ['9_Appendix_TSAD_Lesson3'],\n",
       "                                                                 ['4-python'],\n",
       "                                                     ['4-python', 'overview'],\n",
       "                                                       ['users', '2', 'edit'],\n",
       "                                                       ['users', '1', 'edit'],\n",
       "                                                  ['9_Appendix_TSAD_Lesson2'],\n",
       "                                                        ['Dataset_Challenge'],\n",
       "                                                          ['2.0_Intro_Stats'],\n",
       "       ['appendix', 'professional-development', 'post-interview-review-form']],\n",
       "      dtype='object', length=1865)"
      ]
     },
     "execution_count": 17,
     "metadata": {},
     "output_type": "execute_result"
    }
   ],
   "source": [
    "post_graduation_visits.index.str.split(pat='/')"
   ]
  },
  {
   "cell_type": "code",
   "execution_count": null,
   "id": "835be29d",
   "metadata": {},
   "outputs": [],
   "source": []
  },
  {
   "cell_type": "markdown",
   "id": "46136fba",
   "metadata": {},
   "source": [
    "**Question 6 Notes:**\n",
    "- visits to \"/\" are just entry points, so we can ignore that\n"
   ]
  },
  {
   "cell_type": "markdown",
   "id": "a09d5f94",
   "metadata": {},
   "source": [
    "### Idea Fairies\n",
    "- Subset into cohort and create activity plot for each cohort (see how activity after graduation varies)"
   ]
  }
 ],
 "metadata": {
  "kernelspec": {
   "display_name": "Python 3 (ipykernel)",
   "language": "python",
   "name": "python3"
  },
  "language_info": {
   "codemirror_mode": {
    "name": "ipython",
    "version": 3
   },
   "file_extension": ".py",
   "mimetype": "text/x-python",
   "name": "python",
   "nbconvert_exporter": "python",
   "pygments_lexer": "ipython3",
   "version": "3.9.7"
  }
 },
 "nbformat": 4,
 "nbformat_minor": 5
}
